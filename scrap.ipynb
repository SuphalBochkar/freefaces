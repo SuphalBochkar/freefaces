{
 "cells": [
  {
   "cell_type": "code",
   "execution_count": 2,
   "metadata": {},
   "outputs": [],
   "source": [
    "import requests\n",
    "from bs4 import BeautifulSoup\n",
    "import streamlit"
   ]
  },
  {
   "cell_type": "code",
   "execution_count": 33,
   "metadata": {},
   "outputs": [
    {
     "data": {
      "text/plain": [
       "77"
      ]
     },
     "execution_count": 33,
     "metadata": {},
     "output_type": "execute_result"
    }
   ],
   "source": [
    "from bs4 import BeautifulSoup\n",
    "import requests\n",
    "\n",
    "images_lst = []\n",
    "for i in range(1,10):\n",
    "    link = f\"https://www.freefaces.gallery/?3a2d1f52_page={i}\"\n",
    "    res = requests.get(link)\n",
    "    soup = BeautifulSoup(res.text, \"html.parser\")\n",
    "    a_tag = soup.find_all(\"a\", class_=\"item-link\")\n",
    "    for a in a_tag:\n",
    "        images_lst.append(a.get('style')[22:-2])\n",
    "len(images_lst)"
   ]
  },
  {
   "cell_type": "code",
   "execution_count": null,
   "metadata": {},
   "outputs": [],
   "source": []
  },
  {
   "cell_type": "code",
   "execution_count": null,
   "metadata": {},
   "outputs": [],
   "source": [
    "# for i in range(1, 9):\n",
    "#     link = f\"https://www.freefaces.gallery/?3a2d1f52_page={i}\"\n",
    "#     res = requests.get(link)\n",
    "#     html = res.text\n",
    "\n",
    "#     filename = f\"main{i}.html\"\n",
    "\n",
    "#     with open(filename, \"w\", encoding=\"utf-8\") as fd:\n",
    "#         fd.write(html)"
   ]
  }
 ],
 "metadata": {
  "kernelspec": {
   "display_name": "Python 3",
   "language": "python",
   "name": "python3"
  },
  "language_info": {
   "codemirror_mode": {
    "name": "ipython",
    "version": 3
   },
   "file_extension": ".py",
   "mimetype": "text/x-python",
   "name": "python",
   "nbconvert_exporter": "python",
   "pygments_lexer": "ipython3",
   "version": "3.12.4"
  }
 },
 "nbformat": 4,
 "nbformat_minor": 2
}
